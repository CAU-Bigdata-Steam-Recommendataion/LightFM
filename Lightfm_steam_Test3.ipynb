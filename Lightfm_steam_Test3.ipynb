{
  "nbformat": 4,
  "nbformat_minor": 0,
  "metadata": {
    "colab": {
      "provenance": []
    },
    "kernelspec": {
      "name": "python3",
      "display_name": "Python 3"
    },
    "language_info": {
      "name": "python"
    }
  },
  "cells": [
    {
      "cell_type": "code",
      "execution_count": 1,
      "metadata": {
        "colab": {
          "base_uri": "https://localhost:8080/"
        },
        "id": "RE8TMnlACRRA",
        "outputId": "48054120-67df-4243-bc23-fbf62fc98f8a"
      },
      "outputs": [
        {
          "output_type": "stream",
          "name": "stdout",
          "text": [
            "Looking in indexes: https://pypi.org/simple, https://us-python.pkg.dev/colab-wheels/public/simple/\n",
            "Collecting lightfm\n",
            "  Downloading lightfm-1.16.tar.gz (310 kB)\n",
            "\u001b[K     |████████████████████████████████| 310 kB 14.7 MB/s \n",
            "\u001b[?25hRequirement already satisfied: numpy in /usr/local/lib/python3.8/dist-packages (from lightfm) (1.21.6)\n",
            "Requirement already satisfied: scipy>=0.17.0 in /usr/local/lib/python3.8/dist-packages (from lightfm) (1.7.3)\n",
            "Requirement already satisfied: requests in /usr/local/lib/python3.8/dist-packages (from lightfm) (2.23.0)\n",
            "Requirement already satisfied: scikit-learn in /usr/local/lib/python3.8/dist-packages (from lightfm) (1.0.2)\n",
            "Requirement already satisfied: urllib3!=1.25.0,!=1.25.1,<1.26,>=1.21.1 in /usr/local/lib/python3.8/dist-packages (from requests->lightfm) (1.24.3)\n",
            "Requirement already satisfied: chardet<4,>=3.0.2 in /usr/local/lib/python3.8/dist-packages (from requests->lightfm) (3.0.4)\n",
            "Requirement already satisfied: certifi>=2017.4.17 in /usr/local/lib/python3.8/dist-packages (from requests->lightfm) (2022.9.24)\n",
            "Requirement already satisfied: idna<3,>=2.5 in /usr/local/lib/python3.8/dist-packages (from requests->lightfm) (2.10)\n",
            "Requirement already satisfied: threadpoolctl>=2.0.0 in /usr/local/lib/python3.8/dist-packages (from scikit-learn->lightfm) (3.1.0)\n",
            "Requirement already satisfied: joblib>=0.11 in /usr/local/lib/python3.8/dist-packages (from scikit-learn->lightfm) (1.2.0)\n",
            "Building wheels for collected packages: lightfm\n",
            "  Building wheel for lightfm (setup.py) ... \u001b[?25l\u001b[?25hdone\n",
            "  Created wheel for lightfm: filename=lightfm-1.16-cp38-cp38-linux_x86_64.whl size=738338 sha256=b565fe2ba589e46c5e37db1a106eba7359fb3c27267b1c8f7cd67f50d44d02ed\n",
            "  Stored in directory: /root/.cache/pip/wheels/ec/bb/51/9c487d021c1373b691d13cadca0b65b6852627b1f3f43550fa\n",
            "Successfully built lightfm\n",
            "Installing collected packages: lightfm\n",
            "Successfully installed lightfm-1.16\n"
          ]
        }
      ],
      "source": [
        "pip install lightfm"
      ]
    },
    {
      "cell_type": "code",
      "source": [
        "from lightfm import LightFM\n",
        "from scipy.sparse import coo_matrix as sp\n",
        "import time\n",
        "import matplotlib\n",
        "import numpy as np\n",
        "import matplotlib.pyplot as plt\n",
        "import os\n",
        "import zipfile\n",
        "import csv\n",
        "import requests\n",
        "from itertools import islice\n",
        "from lightfm.data import Dataset\n",
        "from lightfm import LightFM\n",
        "from lightfm.evaluation import precision_at_k\n",
        "from lightfm.evaluation import auc_score\n",
        "from lightfm.cross_validation import random_train_test_split \n",
        "\n",
        "import numpy as np\n",
        "import pandas as pd\n",
        "import warnings # warings 제거\n",
        "warnings.filterwarnings(action='ignore')"
      ],
      "metadata": {
        "id": "jYQyDmT9Cj6I"
      },
      "execution_count": 2,
      "outputs": []
    },
    {
      "cell_type": "code",
      "source": [
        "from google.colab import drive\n",
        "drive.mount('/content/drive')"
      ],
      "metadata": {
        "colab": {
          "base_uri": "https://localhost:8080/"
        },
        "id": "uYergncVqt3Q",
        "outputId": "0c22e27a-27dc-4ac8-f691-3d51c1deb7db"
      },
      "execution_count": 3,
      "outputs": [
        {
          "output_type": "stream",
          "name": "stdout",
          "text": [
            "Mounted at /content/drive\n"
          ]
        }
      ]
    },
    {
      "cell_type": "code",
      "source": [
        "# import json\n",
        "\n",
        "# with open('/content/drive/My Drive/steam/steam_store_data.json', 'r') as f:\n",
        "#     json_data = json.load(f)"
      ],
      "metadata": {
        "colab": {
          "base_uri": "https://localhost:8080/"
        },
        "id": "5iidZxVGqcIN",
        "outputId": "21d6967c-8b4e-454c-8574-49858f7e7db6"
      },
      "execution_count": 5,
      "outputs": [
        {
          "output_type": "stream",
          "name": "stderr",
          "text": [
            "IOPub data rate exceeded.\n",
            "The notebook server will temporarily stop sending output\n",
            "to the client in order to avoid crashing it.\n",
            "To change this limit, set the config variable\n",
            "`--NotebookApp.iopub_data_rate_limit`.\n",
            "\n",
            "Current values:\n",
            "NotebookApp.iopub_data_rate_limit=1000000.0 (bytes/sec)\n",
            "NotebookApp.rate_limit_window=3.0 (secs)\n",
            "\n"
          ]
        }
      ]
    },
    {
      "cell_type": "markdown",
      "source": [
        "# 1. Data structure and embedding\n"
      ],
      "metadata": {
        "id": "ffLY-6j7_r_H"
      }
    },
    {
      "cell_type": "markdown",
      "source": [
        "\n",
        "\n",
        "> ## Data loading, preprocessing\n",
        "\n",
        "\n"
      ],
      "metadata": {
        "id": "9CetHZdUFAZW"
      }
    },
    {
      "cell_type": "markdown",
      "source": [
        "**user_features** : user의 특성을 구분(성별, 지역, 선호유형)\n",
        "\n",
        "**item_features**: item의 meta data(제목, 가격, 장르, 국가, 게시 시간)\n",
        "\n",
        "**interactions** : user-item간의 data(평점)"
      ],
      "metadata": {
        "id": "6iihYyI-Df-u"
      }
    },
    {
      "cell_type": "code",
      "source": [
        "#author -  user_id\n",
        "#appid - game\n",
        "#voted_up - true means it was a positive recommendation\n",
        "#votes_up - the number of users that found this review helpful\n",
        "## votes_up integer로 해야 함\n",
        "\n",
        "# data_overten = pd.read_csv('/content/drive/My Drive/steam/parsed_data_overten1.csv')\n",
        "data_overten = {'author' : ['1','2', '3', '4', '5', '6', '7'],\n",
        "                'appid' : ['10', '10', '20', '20', '30', '30', '30'],\n",
        "                'playtime_forever' : ['104', '426', '386', '165', '28', '45', '30'], \n",
        "                'playtime_at_review' : ['10', '426', '199', '184', '40', '21', '31'],\n",
        "                'voted_up' : ['True', 'Ture', 'Ture', 'Ture', 'False', 'False', 'False'],\n",
        "                'votes_up' : [0, 0, 3, 4, 1, 2, 1]}\n",
        "\n",
        "game_data = {'name' : ['A', 'B', 'C'],\n",
        "             'steam_appid' : ['10', '20', '30']}\n",
        "# users : user_features\n",
        "users = pd.DataFrame(data_overten, columns = ['author'])\n",
        "# ratings : intersections\n",
        "# ratings = pd.DataFrame(data_overten, columns = ['author', 'appid', 'playtime_forever', 'playtime_at_review'])\n",
        "ratings = pd.DataFrame(data_overten)\n",
        "# games : game_features\n",
        "games = pd.DataFrame(game_data, columns = ['steam_appid', 'name'])"
      ],
      "metadata": {
        "id": "-_YVmtgCC78a"
      },
      "execution_count": 7,
      "outputs": []
    },
    {
      "cell_type": "markdown",
      "source": [
        "\n",
        "\n",
        "> ## Data embedding\n",
        "위의 데이터를 embedding dataset으로 build\n",
        "\n"
      ],
      "metadata": {
        "id": "j4ek910CAk3h"
      }
    },
    {
      "cell_type": "code",
      "source": [
        "## make array \n",
        "# interaction\n",
        "ratings_source = [(ratings['author'][i], \n",
        "                   ratings['appid'][i],\n",
        "                   ratings['votes_up'][i]) for i in range(ratings.shape[0])]\n",
        "# item_feautres\n",
        "item_meta = games[['steam_appid', 'name']]\n",
        "item_features_source = [(item_meta['steam_appid'][i],\n",
        "                        np.array(item_meta.iloc[i,1:]).reshape(-1))\n",
        "                        for i in range(item_meta.shape[0])]\n",
        "# user_features\n",
        "user_meta = users[['author']]\n",
        "user_features_source = [(user_meta['author'][i],\n",
        "                        np.array(user_meta.iloc[i,1:]).reshape(-1)) \n",
        "                        for i in range(user_meta.shape[0])]   \n",
        "\n",
        "## fit dataset \n",
        "dataset = Dataset()\n",
        "dataset.fit(users=ratings['author'],\n",
        "            items=ratings['appid'])\n",
        "interactions, weights = dataset.build_interactions(ratings_source)\n",
        "\n",
        "dataset.fit(users=ratings['author'],\n",
        "            items=ratings['appid'],\n",
        "            item_features=item_meta[item_meta.columns[1:]].values.flatten())\n",
        "item_features=dataset.build_item_features(item_features_source)\n",
        "\n",
        "dataset.fit(users=ratings['author'],\n",
        "            items=ratings['appid'],\n",
        "            user_features=user_meta[user_meta.columns[1:]].values.flatten())\n",
        "user_features=dataset.build_user_features(user_features_source)\n",
        "\n",
        "# embedding data 는 print(item_features) \n",
        "print(item_features)"
      ],
      "metadata": {
        "id": "VY2h3tGvHsRI",
        "colab": {
          "base_uri": "https://localhost:8080/"
        },
        "outputId": "8a821f23-c3f9-45a3-dff6-eb3ac36faf11"
      },
      "execution_count": 11,
      "outputs": [
        {
          "output_type": "stream",
          "name": "stdout",
          "text": [
            "  (0, 0)\t0.5\n",
            "  (0, 3)\t0.5\n",
            "  (1, 1)\t0.5\n",
            "  (1, 4)\t0.5\n",
            "  (2, 2)\t0.5\n",
            "  (2, 5)\t0.5\n"
          ]
        }
      ]
    },
    {
      "cell_type": "markdown",
      "source": [
        "# 2. LightFM Model Function"
      ],
      "metadata": {
        "id": "q3hAoSP_CgGB"
      }
    },
    {
      "cell_type": "markdown",
      "source": [
        "\n",
        "\n",
        "> ## Model fit, optimize\n",
        "\n"
      ],
      "metadata": {
        "id": "rjJ4FlflE6jc"
      }
    },
    {
      "cell_type": "markdown",
      "source": [
        "loss function 으로  WARP ,  정확도는 precision@k 를 사용하여 evalutation 을 해준다."
      ],
      "metadata": {
        "id": "a8eSWzM0FuZn"
      }
    },
    {
      "cell_type": "code",
      "source": [
        "from lightfm.cross_validation import random_train_test_split\n",
        "# Split Train, Test data\n",
        "model = LightFM(loss='warp')\n",
        "(train, test) = random_train_test_split(interactions=interactions, test_percentage=0.2)\n",
        "model.fit(train, item_features=item_features,user_features=user_features, epochs=2)\n",
        "\n",
        "train_precision = precision_at_k(model, train, k=5, item_features=item_features,user_features=user_features).mean()\n",
        "test_precision = precision_at_k(model, test, k=5, item_features=item_features,user_features=user_features).mean()\n",
        "train_auc = auc_score(model, train, item_features=item_features,user_features=user_features).mean()\n",
        "test_auc = auc_score(model, test, item_features=item_features,user_features=user_features).mean()\n",
        "# test_auc = auc_score(model, test, item_features=item_features).mean()\n",
        "output = -test_precision #precision은 높을수록 좋음 : 높은 숫자를 찾기위해 음수화\n",
        "\n",
        "print( 'Precision: train %.4f, test %.4f, AUC: train %.4f, test %.4f.' \n",
        "      % ( train_precision,test_precision,train_auc, test_auc))"
      ],
      "metadata": {
        "colab": {
          "base_uri": "https://localhost:8080/"
        },
        "id": "5a5bpgMvEzig",
        "outputId": "c2380707-9d7c-456d-cd74-6246d1bdb971"
      },
      "execution_count": 12,
      "outputs": [
        {
          "output_type": "stream",
          "name": "stdout",
          "text": [
            "Precision: train 0.2000, test 0.2000, AUC: train 0.5000, test 0.2500.\n"
          ]
        }
      ]
    },
    {
      "cell_type": "markdown",
      "source": [
        "추천에서는 성능 지표로 precision@k 를 많이 사용하고 \n",
        "\n",
        "Precision@5 = 0.05 (test) 는 순위로 rank 가 된 게임 중 (k=) 5번째 내에 관심 있을 게임이 나올 정확도가 평균 5% 라는 것입니다. 수치가 매우 낮아보이지만, user/content 수가 많은 real 환경에서 5%를 넘기는 어렵다.\n",
        "​\n",
        "\n",
        "AUC는 모델의 전체 적인 성능을 나타내는 지표이다.\n",
        "\n",
        "​"
      ],
      "metadata": {
        "id": "EPgxet8bGDH0"
      }
    },
    {
      "cell_type": "markdown",
      "source": [
        "\n",
        "\n",
        "> ## Predict score & Recommend games\n",
        "\n"
      ],
      "metadata": {
        "id": "QkPzIbTEFcbY"
      }
    },
    {
      "cell_type": "code",
      "source": [
        "labels = np.array(games['steam_appid'])\n",
        "\n",
        "def sample_recommendation(model, data, user_ids):\n",
        "\n",
        "    n_users, n_items = data.shape\n",
        "\n",
        "    #build a structure to store user scores for each item\n",
        "    all_scores = np.empty(shape=(0,n_items))\n",
        "\n",
        "    #iterate through the group and build the scores\n",
        "    for user_id in user_ids:\n",
        "        #known_positives = labels[data.tocsr()[user_id].indices]\n",
        "        #user의 전체 0~9066 movie의 예측 평점\n",
        "        scores = model.predict(user_id,np.arange(n_items),item_features) \n",
        "        \n",
        "        # movieId로 치환\n",
        "        top_items_for_user = labels[np.argsort(-scores)] #argsort():오름차순인덱스반환\n",
        "        print(\"Top Recommended games For User: \", user_id)\n",
        "        for x in top_items_for_user[:10]:\n",
        "            #print(\"     %s\" % games[games['gameId']== x])\n",
        "            print(\"     %s\" % x)\n",
        "\n",
        "        #vertically stack the user scores (items are columns)\n",
        "        all_scores = np.vstack((all_scores, scores))\n",
        "        print(all_scores)\n",
        "\n",
        "    #compute the average rating for each item in the group\n",
        "    item_averages = np.mean(all_scores.astype(np.float), axis=0)\n",
        "    top_items_for_group = labels[np.argsort(-item_averages)]\n",
        "    top_items_scores=item_averages[np.argsort(-item_averages)]\n",
        "\n",
        "    print(\"Top Recommended games for Group:\")\n",
        "\n",
        "    for x in top_items_for_group[:10]:\n",
        "        print(\"     %s\" % x)\n",
        "    return  top_items_for_group, top_items_scores"
      ],
      "metadata": {
        "id": "m6akcuXJFkr5"
      },
      "execution_count": 15,
      "outputs": []
    },
    {
      "cell_type": "markdown",
      "source": [
        "\n",
        "\n",
        "*   group에 author id를 입력하면 모든 games 의 예측 평점을 계산하고\n",
        "ex) user 1 -> group = [0], user 2 = group = [1] \n",
        "*   list_no에 원하는 게임 수를 입력하면 높은순으로 games(id:score)를 리턴합니다."
      ],
      "metadata": {
        "id": "j2XjGZJWMA0A"
      }
    },
    {
      "cell_type": "code",
      "source": [
        "# predict for existing user\n",
        "# \n",
        "# list_no : \n",
        "group = [5]\n",
        "list_no = 2\n",
        "\n",
        "#sample recommendations for the group\n",
        "list,avg_scores = sample_recommendation(model, interactions, group)\n",
        "# pd.DataFrame(list).to_csv('movie.csv')\n",
        "recommend_movie=pd.DataFrame(columns=games.columns)\n",
        "for x in list[:list_no]:\n",
        "  recommend_movie=recommend_movie.append(games[games['steam_appid']== x], ignore_index=True)\n",
        "\n",
        "recommend_movie['predict_score']= avg_scores[:list_no]\n",
        "recommend_movie"
      ],
      "metadata": {
        "colab": {
          "base_uri": "https://localhost:8080/",
          "height": 275
        },
        "id": "lKzS3u3VKS-h",
        "outputId": "67102543-12c7-479d-a8b1-871de83a6fcb"
      },
      "execution_count": 21,
      "outputs": [
        {
          "output_type": "stream",
          "name": "stdout",
          "text": [
            "Top Recommended games For User:  5\n",
            "     20\n",
            "     10\n",
            "     30\n",
            "[[-0.03579989 -0.01650534 -0.05171992]]\n",
            "Top Recommended games for Group:\n",
            "     20\n",
            "     10\n",
            "     30\n"
          ]
        },
        {
          "output_type": "execute_result",
          "data": {
            "text/plain": [
              "  steam_appid name  predict_score\n",
              "0          20    B      -0.016505\n",
              "1          10    A      -0.035800"
            ],
            "text/html": [
              "\n",
              "  <div id=\"df-2705fa1d-9338-40ec-b64b-778081d5042e\">\n",
              "    <div class=\"colab-df-container\">\n",
              "      <div>\n",
              "<style scoped>\n",
              "    .dataframe tbody tr th:only-of-type {\n",
              "        vertical-align: middle;\n",
              "    }\n",
              "\n",
              "    .dataframe tbody tr th {\n",
              "        vertical-align: top;\n",
              "    }\n",
              "\n",
              "    .dataframe thead th {\n",
              "        text-align: right;\n",
              "    }\n",
              "</style>\n",
              "<table border=\"1\" class=\"dataframe\">\n",
              "  <thead>\n",
              "    <tr style=\"text-align: right;\">\n",
              "      <th></th>\n",
              "      <th>steam_appid</th>\n",
              "      <th>name</th>\n",
              "      <th>predict_score</th>\n",
              "    </tr>\n",
              "  </thead>\n",
              "  <tbody>\n",
              "    <tr>\n",
              "      <th>0</th>\n",
              "      <td>20</td>\n",
              "      <td>B</td>\n",
              "      <td>-0.016505</td>\n",
              "    </tr>\n",
              "    <tr>\n",
              "      <th>1</th>\n",
              "      <td>10</td>\n",
              "      <td>A</td>\n",
              "      <td>-0.035800</td>\n",
              "    </tr>\n",
              "  </tbody>\n",
              "</table>\n",
              "</div>\n",
              "      <button class=\"colab-df-convert\" onclick=\"convertToInteractive('df-2705fa1d-9338-40ec-b64b-778081d5042e')\"\n",
              "              title=\"Convert this dataframe to an interactive table.\"\n",
              "              style=\"display:none;\">\n",
              "        \n",
              "  <svg xmlns=\"http://www.w3.org/2000/svg\" height=\"24px\"viewBox=\"0 0 24 24\"\n",
              "       width=\"24px\">\n",
              "    <path d=\"M0 0h24v24H0V0z\" fill=\"none\"/>\n",
              "    <path d=\"M18.56 5.44l.94 2.06.94-2.06 2.06-.94-2.06-.94-.94-2.06-.94 2.06-2.06.94zm-11 1L8.5 8.5l.94-2.06 2.06-.94-2.06-.94L8.5 2.5l-.94 2.06-2.06.94zm10 10l.94 2.06.94-2.06 2.06-.94-2.06-.94-.94-2.06-.94 2.06-2.06.94z\"/><path d=\"M17.41 7.96l-1.37-1.37c-.4-.4-.92-.59-1.43-.59-.52 0-1.04.2-1.43.59L10.3 9.45l-7.72 7.72c-.78.78-.78 2.05 0 2.83L4 21.41c.39.39.9.59 1.41.59.51 0 1.02-.2 1.41-.59l7.78-7.78 2.81-2.81c.8-.78.8-2.07 0-2.86zM5.41 20L4 18.59l7.72-7.72 1.47 1.35L5.41 20z\"/>\n",
              "  </svg>\n",
              "      </button>\n",
              "      \n",
              "  <style>\n",
              "    .colab-df-container {\n",
              "      display:flex;\n",
              "      flex-wrap:wrap;\n",
              "      gap: 12px;\n",
              "    }\n",
              "\n",
              "    .colab-df-convert {\n",
              "      background-color: #E8F0FE;\n",
              "      border: none;\n",
              "      border-radius: 50%;\n",
              "      cursor: pointer;\n",
              "      display: none;\n",
              "      fill: #1967D2;\n",
              "      height: 32px;\n",
              "      padding: 0 0 0 0;\n",
              "      width: 32px;\n",
              "    }\n",
              "\n",
              "    .colab-df-convert:hover {\n",
              "      background-color: #E2EBFA;\n",
              "      box-shadow: 0px 1px 2px rgba(60, 64, 67, 0.3), 0px 1px 3px 1px rgba(60, 64, 67, 0.15);\n",
              "      fill: #174EA6;\n",
              "    }\n",
              "\n",
              "    [theme=dark] .colab-df-convert {\n",
              "      background-color: #3B4455;\n",
              "      fill: #D2E3FC;\n",
              "    }\n",
              "\n",
              "    [theme=dark] .colab-df-convert:hover {\n",
              "      background-color: #434B5C;\n",
              "      box-shadow: 0px 1px 3px 1px rgba(0, 0, 0, 0.15);\n",
              "      filter: drop-shadow(0px 1px 2px rgba(0, 0, 0, 0.3));\n",
              "      fill: #FFFFFF;\n",
              "    }\n",
              "  </style>\n",
              "\n",
              "      <script>\n",
              "        const buttonEl =\n",
              "          document.querySelector('#df-2705fa1d-9338-40ec-b64b-778081d5042e button.colab-df-convert');\n",
              "        buttonEl.style.display =\n",
              "          google.colab.kernel.accessAllowed ? 'block' : 'none';\n",
              "\n",
              "        async function convertToInteractive(key) {\n",
              "          const element = document.querySelector('#df-2705fa1d-9338-40ec-b64b-778081d5042e');\n",
              "          const dataTable =\n",
              "            await google.colab.kernel.invokeFunction('convertToInteractive',\n",
              "                                                     [key], {});\n",
              "          if (!dataTable) return;\n",
              "\n",
              "          const docLinkHtml = 'Like what you see? Visit the ' +\n",
              "            '<a target=\"_blank\" href=https://colab.research.google.com/notebooks/data_table.ipynb>data table notebook</a>'\n",
              "            + ' to learn more about interactive tables.';\n",
              "          element.innerHTML = '';\n",
              "          dataTable['output_type'] = 'display_data';\n",
              "          await google.colab.output.renderOutput(dataTable, element);\n",
              "          const docLink = document.createElement('div');\n",
              "          docLink.innerHTML = docLinkHtml;\n",
              "          element.appendChild(docLink);\n",
              "        }\n",
              "      </script>\n",
              "    </div>\n",
              "  </div>\n",
              "  "
            ]
          },
          "metadata": {},
          "execution_count": 21
        }
      ]
    }
  ]
}