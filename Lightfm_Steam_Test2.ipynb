{
  "nbformat": 4,
  "nbformat_minor": 0,
  "metadata": {
    "colab": {
      "provenance": []
    },
    "kernelspec": {
      "name": "python3",
      "display_name": "Python 3"
    },
    "language_info": {
      "name": "python"
    }
  },
  "cells": [
    {
      "cell_type": "code",
      "execution_count": null,
      "metadata": {
        "colab": {
          "base_uri": "https://localhost:8080/"
        },
        "id": "CDycL8sJoMPC",
        "outputId": "0538ac80-6aac-4dcc-e8cf-8786fd1d2759"
      },
      "outputs": [
        {
          "output_type": "stream",
          "name": "stdout",
          "text": [
            "Looking in indexes: https://pypi.org/simple, https://us-python.pkg.dev/colab-wheels/public/simple/\n",
            "Requirement already satisfied: lightfm in /usr/local/lib/python3.7/dist-packages (1.16)\n",
            "Requirement already satisfied: requests in /usr/local/lib/python3.7/dist-packages (from lightfm) (2.23.0)\n",
            "Requirement already satisfied: scikit-learn in /usr/local/lib/python3.7/dist-packages (from lightfm) (1.0.2)\n",
            "Requirement already satisfied: numpy in /usr/local/lib/python3.7/dist-packages (from lightfm) (1.21.6)\n",
            "Requirement already satisfied: scipy>=0.17.0 in /usr/local/lib/python3.7/dist-packages (from lightfm) (1.7.3)\n",
            "Requirement already satisfied: idna<3,>=2.5 in /usr/local/lib/python3.7/dist-packages (from requests->lightfm) (2.10)\n",
            "Requirement already satisfied: chardet<4,>=3.0.2 in /usr/local/lib/python3.7/dist-packages (from requests->lightfm) (3.0.4)\n",
            "Requirement already satisfied: urllib3!=1.25.0,!=1.25.1,<1.26,>=1.21.1 in /usr/local/lib/python3.7/dist-packages (from requests->lightfm) (1.24.3)\n",
            "Requirement already satisfied: certifi>=2017.4.17 in /usr/local/lib/python3.7/dist-packages (from requests->lightfm) (2022.9.24)\n",
            "Requirement already satisfied: threadpoolctl>=2.0.0 in /usr/local/lib/python3.7/dist-packages (from scikit-learn->lightfm) (3.1.0)\n",
            "Requirement already satisfied: joblib>=0.11 in /usr/local/lib/python3.7/dist-packages (from scikit-learn->lightfm) (1.2.0)\n"
          ]
        }
      ],
      "source": [
        "pip install lightfm"
      ]
    },
    {
      "cell_type": "code",
      "source": [
        "import numpy as np\n",
        "import pandas as pd\n",
        "from lightfm.data import Dataset"
      ],
      "metadata": {
        "id": "eDN_5knVoguD"
      },
      "execution_count": null,
      "outputs": []
    },
    {
      "cell_type": "code",
      "source": [
        "# from google.colab import drive\n",
        "# drive.mount('/content/drive')"
      ],
      "metadata": {
        "colab": {
          "base_uri": "https://localhost:8080/"
        },
        "id": "B8Xgo1B3r0WQ",
        "outputId": "b255cde3-3ccd-45eb-807d-73a040cb486a"
      },
      "execution_count": null,
      "outputs": [
        {
          "output_type": "stream",
          "name": "stdout",
          "text": [
            "Mounted at /content/drive\n"
          ]
        }
      ]
    },
    {
      "cell_type": "code",
      "source": [
        "#author -  user_id\n",
        "#appid - game\n",
        "#voted_up - true means it was a positive recommendation\n",
        "#votes_up - the number of users that found this review helpful\n",
        "# votes_up(integer)\n",
        "\n",
        "# data_overten = pd.read_csv('/content/drive/My Drive/steam/parsed_data_overten1.csv')\n",
        "data_overten = {'author' : ['1','2', '3', '4', '5', '6', '7'],\n",
        "                'appid' : ['10', '10', '20', '20', '30', '30', '30'],\n",
        "                'playtime_forever' : ['104', '426', '386', '165', '28', '45', '30'], \n",
        "                'playtime_at_review' : ['10', '426', '199', '184', '40', '21', '31'],\n",
        "                'voted_up' : ['True', 'Ture', 'Ture', 'Ture', 'False', 'False', 'False'],\n",
        "                'votes_up' : [0, 0, 3, 4, 1, 2, 1]}\n",
        "data_user_game = pd.DataFrame(data_overten, columns = ['author', 'appid', 'votes_up'])\n",
        "features = pd.DataFrame(data_overten, columns = ['author', 'playtime_forever', 'playtime_at_review'])"
      ],
      "metadata": {
        "id": "AKsloqukr6DJ"
      },
      "execution_count": null,
      "outputs": []
    },
    {
      "cell_type": "markdown",
      "source": [
        "# Calling the fit method\n"
      ],
      "metadata": {
        "id": "6PrHvDK8If16"
      }
    },
    {
      "cell_type": "code",
      "source": [
        "uf = [] \n",
        "col = ['playtime_forever']*len(features.playtime_forever.unique()) + ['playtime_at_review']*len(features.playtime_at_review.unique()) \n",
        "unique_f1 = list(features.playtime_forever.unique()) + list(features.playtime_at_review.unique())  \n",
        "#print('f1:', unique_f1) \n",
        "for x,y in zip(col, unique_f1): \n",
        "    res = x + \":\" + y\n",
        "    uf.append(res) \n",
        "    print(res)"
      ],
      "metadata": {
        "colab": {
          "base_uri": "https://localhost:8080/"
        },
        "id": "JJ3xVYexraa3",
        "outputId": "aee7a193-7fa9-46a3-fb78-bc1c7dc51736"
      },
      "execution_count": null,
      "outputs": [
        {
          "output_type": "stream",
          "name": "stdout",
          "text": [
            "playtime_forever:104\n",
            "playtime_forever:426\n",
            "playtime_forever:386\n",
            "playtime_forever:165\n",
            "playtime_forever:28\n",
            "playtime_forever:45\n",
            "playtime_forever:30\n",
            "playtime_at_review:10\n",
            "playtime_at_review:426\n",
            "playtime_at_review:199\n",
            "playtime_at_review:184\n",
            "playtime_at_review:40\n",
            "playtime_at_review:21\n",
            "playtime_at_review:31\n"
          ]
        }
      ]
    },
    {
      "cell_type": "markdown",
      "source": [
        "# Creating LightFM-compliant dataset & fit method"
      ],
      "metadata": {
        "id": "xwmVlrdyIu7p"
      }
    },
    {
      "cell_type": "code",
      "source": [
        "dataset1 = Dataset()\n",
        "dataset1.fit(data_user_game['author'].unique(),\n",
        "             data_user_game['appid'].unique(),\n",
        "             user_features = uf)"
      ],
      "metadata": {
        "id": "f0IwAgzWF5sa"
      },
      "execution_count": null,
      "outputs": []
    },
    {
      "cell_type": "markdown",
      "source": [
        "# Building Interactions\n",
        "iterable of interactions where each interaction is a tuple containing three elements : \n",
        "1.   user\n",
        "2.   item\n",
        "3.   interaction weights"
      ],
      "metadata": {
        "id": "7YfXW5V8H2ES"
      }
    },
    {
      "cell_type": "code",
      "source": [
        "# interactions : user가 item과 interaction했는지 여부\n",
        "# weights : 해당 특정 interaction정량화\n",
        "(interactions, weights) = dataset1.build_interactions([(x[0], x[1], x[2]) for x in data_user_game.values])"
      ],
      "metadata": {
        "id": "PLt1iYuUGkXS"
      },
      "execution_count": null,
      "outputs": []
    },
    {
      "cell_type": "code",
      "source": [
        "interactions.todense()"
      ],
      "metadata": {
        "colab": {
          "base_uri": "https://localhost:8080/"
        },
        "id": "dYfXfUeiTU8-",
        "outputId": "bb600ad5-18a1-4602-8439-88dd67fc2020"
      },
      "execution_count": null,
      "outputs": [
        {
          "output_type": "execute_result",
          "data": {
            "text/plain": [
              "matrix([[1, 0, 0],\n",
              "        [1, 0, 0],\n",
              "        [0, 1, 0],\n",
              "        [0, 1, 0],\n",
              "        [0, 0, 1],\n",
              "        [0, 0, 1],\n",
              "        [0, 0, 1]], dtype=int32)"
            ]
          },
          "metadata": {},
          "execution_count": 57
        }
      ]
    },
    {
      "cell_type": "code",
      "source": [
        "weights.todense()"
      ],
      "metadata": {
        "colab": {
          "base_uri": "https://localhost:8080/"
        },
        "id": "t9fazyldTTku",
        "outputId": "5fe9208d-a7dd-41e8-bfcd-b2bdef3e294d"
      },
      "execution_count": null,
      "outputs": [
        {
          "output_type": "execute_result",
          "data": {
            "text/plain": [
              "matrix([[0., 0., 0.],\n",
              "        [0., 0., 0.],\n",
              "        [0., 3., 0.],\n",
              "        [0., 4., 0.],\n",
              "        [0., 0., 1.],\n",
              "        [0., 0., 2.],\n",
              "        [0., 0., 1.]], dtype=float32)"
            ]
          },
          "metadata": {},
          "execution_count": 58
        }
      ]
    },
    {
      "cell_type": "markdown",
      "source": [
        "# Building user features"
      ],
      "metadata": {
        "id": "DrLwzGQ1TfFn"
      }
    },
    {
      "cell_type": "code",
      "source": [
        "# inputs to the build_user_features should be like \n",
        "# [ \n",
        "#      ('1', ['playtime_forever:104', 'playtime_at_review:10']), \n",
        "#      ......\n",
        "#      ('7', ['playtime_forever:30', 'playtime_at_review:31'])\n",
        "# ]\n",
        "# user features를 가져와 feature:value 형식으로 변환하도록 도와주는 함수 \n",
        "def feature_colon_value(my_list):\n",
        "    \"\"\"\n",
        "    Takes as input a list and prepends the columns names to respective values in the list.\n",
        "    For example: if my_list = [104,10],\n",
        "    resultant output = ['playtime_forever:104', 'playtime_at_review:10']\n",
        "   \n",
        "    \"\"\"\n",
        "    result = []\n",
        "    ll = ['playtime_forever:','playtime_at_review:']\n",
        "    aa = my_list\n",
        "    for x,y in zip(ll,aa):\n",
        "        res = x +\"\"+ y\n",
        "        result.append(res)\n",
        "    return result"
      ],
      "metadata": {
        "id": "ycmswn01TbK6"
      },
      "execution_count": null,
      "outputs": []
    },
    {
      "cell_type": "code",
      "source": [
        "# feature_colon_value함수를 이용 모든 이용자의 feature을 바른 형식으로 생성\n",
        "ad_subset = features[['playtime_forever','playtime_at_review']] \n",
        "ad_list = [list(x) for x in ad_subset.values]\n",
        "feature_list = []\n",
        "for item in ad_list:\n",
        "    feature_list.append(feature_colon_value(item))\n",
        "print(f'Final output: {feature_list}')"
      ],
      "metadata": {
        "colab": {
          "base_uri": "https://localhost:8080/"
        },
        "id": "utvqxRG0WvAd",
        "outputId": "f88533ed-f141-4ae6-d00d-defb4facce8a"
      },
      "execution_count": null,
      "outputs": [
        {
          "output_type": "stream",
          "name": "stdout",
          "text": [
            "Final output: [['playtime_forever:104', 'playtime_at_review:10'], ['playtime_forever:426', 'playtime_at_review:426'], ['playtime_forever:386', 'playtime_at_review:199'], ['playtime_forever:165', 'playtime_at_review:184'], ['playtime_forever:28', 'playtime_at_review:40'], ['playtime_forever:45', 'playtime_at_review:21'], ['playtime_forever:30', 'playtime_at_review:31']]\n"
          ]
        }
      ]
    },
    {
      "cell_type": "code",
      "source": [
        "# 각 요소를 feature_list 해당 사용자의 id와 연결\n",
        "user_tuple = list(zip(features.author, feature_list))\n",
        "user_tuple"
      ],
      "metadata": {
        "colab": {
          "base_uri": "https://localhost:8080/"
        },
        "id": "sbp-v2VfW9GA",
        "outputId": "96b7e02f-9505-49d4-cdac-a7be6d7608d6"
      },
      "execution_count": null,
      "outputs": [
        {
          "output_type": "execute_result",
          "data": {
            "text/plain": [
              "[('1', ['playtime_forever:104', 'playtime_at_review:10']),\n",
              " ('2', ['playtime_forever:426', 'playtime_at_review:426']),\n",
              " ('3', ['playtime_forever:386', 'playtime_at_review:199']),\n",
              " ('4', ['playtime_forever:165', 'playtime_at_review:184']),\n",
              " ('5', ['playtime_forever:28', 'playtime_at_review:40']),\n",
              " ('6', ['playtime_forever:45', 'playtime_at_review:21']),\n",
              " ('7', ['playtime_forever:30', 'playtime_at_review:31'])]"
            ]
          },
          "metadata": {},
          "execution_count": 64
        }
      ]
    },
    {
      "cell_type": "code",
      "source": [
        "# user_features행렬에서 행은 사용자\n",
        "# 열은 사용자의 feature, user가 feature을 가질 때마다 1이 존재 \n",
        "user_features = dataset1.build_user_features(user_tuple, normalize= False)\n",
        "user_features.todense()"
      ],
      "metadata": {
        "colab": {
          "base_uri": "https://localhost:8080/"
        },
        "id": "pFCn9288W_VY",
        "outputId": "ee8f0518-6bdd-47ce-91b1-b20eeb48c94c"
      },
      "execution_count": null,
      "outputs": [
        {
          "output_type": "execute_result",
          "data": {
            "text/plain": [
              "matrix([[1., 0., 0., 0., 0., 0., 0., 1., 0., 0., 0., 0., 0., 0., 1., 0.,\n",
              "         0., 0., 0., 0., 0.],\n",
              "        [0., 1., 0., 0., 0., 0., 0., 0., 1., 0., 0., 0., 0., 0., 0., 1.,\n",
              "         0., 0., 0., 0., 0.],\n",
              "        [0., 0., 1., 0., 0., 0., 0., 0., 0., 1., 0., 0., 0., 0., 0., 0.,\n",
              "         1., 0., 0., 0., 0.],\n",
              "        [0., 0., 0., 1., 0., 0., 0., 0., 0., 0., 1., 0., 0., 0., 0., 0.,\n",
              "         0., 1., 0., 0., 0.],\n",
              "        [0., 0., 0., 0., 1., 0., 0., 0., 0., 0., 0., 1., 0., 0., 0., 0.,\n",
              "         0., 0., 1., 0., 0.],\n",
              "        [0., 0., 0., 0., 0., 1., 0., 0., 0., 0., 0., 0., 1., 0., 0., 0.,\n",
              "         0., 0., 0., 1., 0.],\n",
              "        [0., 0., 0., 0., 0., 0., 1., 0., 0., 0., 0., 0., 0., 1., 0., 0.,\n",
              "         0., 0., 0., 0., 1.]], dtype=float32)"
            ]
          },
          "metadata": {},
          "execution_count": 65
        }
      ]
    },
    {
      "cell_type": "code",
      "source": [
        "# 열이 21개인 이유 사용자의 id도 feature이므로 \n",
        "user_id_map, user_feature_map, item_id_map, item_feature_map = dataset1.mapping()\n",
        "dataset1.mapping()"
      ],
      "metadata": {
        "colab": {
          "base_uri": "https://localhost:8080/"
        },
        "id": "q7Qo37jmXijz",
        "outputId": "a26be9df-ab9e-4b06-a6f9-3e2c58a5fff9"
      },
      "execution_count": null,
      "outputs": [
        {
          "output_type": "execute_result",
          "data": {
            "text/plain": [
              "({'1': 0, '2': 1, '3': 2, '4': 3, '5': 4, '6': 5, '7': 6},\n",
              " {'1': 0,\n",
              "  '2': 1,\n",
              "  '3': 2,\n",
              "  '4': 3,\n",
              "  '5': 4,\n",
              "  '6': 5,\n",
              "  '7': 6,\n",
              "  'playtime_forever:104': 7,\n",
              "  'playtime_forever:426': 8,\n",
              "  'playtime_forever:386': 9,\n",
              "  'playtime_forever:165': 10,\n",
              "  'playtime_forever:28': 11,\n",
              "  'playtime_forever:45': 12,\n",
              "  'playtime_forever:30': 13,\n",
              "  'playtime_at_review:10': 14,\n",
              "  'playtime_at_review:426': 15,\n",
              "  'playtime_at_review:199': 16,\n",
              "  'playtime_at_review:184': 17,\n",
              "  'playtime_at_review:40': 18,\n",
              "  'playtime_at_review:21': 19,\n",
              "  'playtime_at_review:31': 20},\n",
              " {'10': 0, '20': 1, '30': 2},\n",
              " {'10': 0, '20': 1, '30': 2})"
            ]
          },
          "metadata": {},
          "execution_count": 66
        }
      ]
    },
    {
      "cell_type": "code",
      "source": [
        "user_feature_map"
      ],
      "metadata": {
        "colab": {
          "base_uri": "https://localhost:8080/"
        },
        "id": "rsAYghsMYLYY",
        "outputId": "6bbc3bed-b29b-4f04-8534-a7f412b6290a"
      },
      "execution_count": null,
      "outputs": [
        {
          "output_type": "execute_result",
          "data": {
            "text/plain": [
              "{'1': 0,\n",
              " '2': 1,\n",
              " '3': 2,\n",
              " '4': 3,\n",
              " '5': 4,\n",
              " '6': 5,\n",
              " '7': 6,\n",
              " 'playtime_forever:104': 7,\n",
              " 'playtime_forever:426': 8,\n",
              " 'playtime_forever:386': 9,\n",
              " 'playtime_forever:165': 10,\n",
              " 'playtime_forever:28': 11,\n",
              " 'playtime_forever:45': 12,\n",
              " 'playtime_forever:30': 13,\n",
              " 'playtime_at_review:10': 14,\n",
              " 'playtime_at_review:426': 15,\n",
              " 'playtime_at_review:199': 16,\n",
              " 'playtime_at_review:184': 17,\n",
              " 'playtime_at_review:40': 18,\n",
              " 'playtime_at_review:21': 19,\n",
              " 'playtime_at_review:31': 20}"
            ]
          },
          "metadata": {},
          "execution_count": 67
        }
      ]
    },
    {
      "cell_type": "markdown",
      "source": [
        "# Training the model"
      ],
      "metadata": {
        "id": "tlBZ0o6rYNgD"
      }
    },
    {
      "cell_type": "code",
      "source": [
        "from scipy import sparse\n",
        "from lightfm import LightFM\n",
        "# wrap : 랭킹 손실 함수, 실제로 구매한 상품에 대한 구매 확률보다 실제로 구매하지 않은 상품에 대한 \n",
        "# 구매 확룰이 더 큰 경우(error)에만 모델 업데이트를 수행해가며 최종 실제로 구매한 상품의 구매 확률을 가장 크게 만드는 것\n",
        "model = LightFM(loss='warp')\n",
        "model.fit(interactions, # spase matrix representing whether user u and item i interacted\n",
        "      user_features= user_features, # we have built the sparse matrix above\n",
        "      sample_weight= weights, # spase matrix representing how much value to give to user u and item i inetraction: i.e ratings\n",
        "      epochs=10)"
      ],
      "metadata": {
        "colab": {
          "base_uri": "https://localhost:8080/"
        },
        "id": "dz-mSfATYQKc",
        "outputId": "0d78fdbc-9ffb-41cc-c4e6-3ee0f944be89"
      },
      "execution_count": null,
      "outputs": [
        {
          "output_type": "execute_result",
          "data": {
            "text/plain": [
              "<lightfm.lightfm.LightFM at 0x7f326821fad0>"
            ]
          },
          "metadata": {},
          "execution_count": 69
        }
      ]
    },
    {
      "cell_type": "markdown",
      "source": [
        "# Evaluating the model\n",
        "AUC는 ROC(Receiver Operating Charateristic)곡선 아래의 면적을 뜻하며, binary classification or multi-class classification문제에서 True라벨과 flase라벨의 분류 성능을 측정하는 지표이다.\n",
        "아래 그래프 이미지는 FPR(False Positive Rate)과 TPR(True Positive Rate)을 각각 x축, y축으로 하는 ROC곡선을 그린 그래프이다. ROC곡선 아래 ('A')이 AUC score이며, AUC score가 1에 가까울 수록 좋은 분류 성능을 가진 모델이다.\n",
        "\n",
        "<img src = \"https://drive.google.com/uc?id=1l8Be823kn8ZcAcWjqmGK8GqJRWxJg3Zy\" height = 230 width = 300>\n"
      ],
      "metadata": {
        "id": "cCJj-gFCYfOm"
      }
    },
    {
      "cell_type": "code",
      "source": [
        "from lightfm.evaluation import auc_score\n",
        "train_auc = auc_score(model,\n",
        "                      interactions,\n",
        "                      user_features=user_features\n",
        "                     ).mean()\n",
        "print('Hybrid training set AUC: %s' % train_auc)"
      ],
      "metadata": {
        "colab": {
          "base_uri": "https://localhost:8080/"
        },
        "id": "cJHfZy1DYiFs",
        "outputId": "6911f8e3-1fd9-45b5-f283-e2c610a85e2e"
      },
      "execution_count": null,
      "outputs": [
        {
          "output_type": "stream",
          "name": "stdout",
          "text": [
            "Hybrid training set AUC: 0.5\n"
          ]
        }
      ]
    },
    {
      "cell_type": "markdown",
      "source": [
        "# Prediction for KNOWN user"
      ],
      "metadata": {
        "id": "ujf1pJX_YoTf"
      }
    },
    {
      "cell_type": "code",
      "source": [
        "# predict for existing user\n",
        "# ex) user 1 = '0', user 2 = '1', user 3 = '2'\n",
        "user_x = user_id_map['2']\n",
        "n_users, n_items = interactions.shape # no of users * no of items\n",
        "model.predict(user_x, np.arange(n_items)) # means predict for all users"
      ],
      "metadata": {
        "colab": {
          "base_uri": "https://localhost:8080/"
        },
        "id": "i14IyJ07YqF8",
        "outputId": "88f0a89e-c716-4e35-bbfd-997151ecb328"
      },
      "execution_count": null,
      "outputs": [
        {
          "output_type": "execute_result",
          "data": {
            "text/plain": [
              "array([-0.41044816,  0.35298854,  0.04352101], dtype=float32)"
            ]
          },
          "metadata": {},
          "execution_count": 71
        }
      ]
    },
    {
      "cell_type": "markdown",
      "source": [
        "# Prediction for NEW user"
      ],
      "metadata": {
        "id": "_2O8R30wYwgf"
      }
    },
    {
      "cell_type": "code",
      "source": [
        "# predict for new user\n",
        "user_feature_list = ['playtime_forever:100', 'playtime_at_review:100']"
      ],
      "metadata": {
        "id": "6ZWTztlVYzVG"
      },
      "execution_count": null,
      "outputs": []
    },
    {
      "cell_type": "code",
      "source": [
        "def format_newuser_input(user_feature_map, user_feature_list):\n",
        "  num_features = len(user_feature_list)\n",
        "  normalised_val = 1.0 \n",
        "  target_indices = []\n",
        "  for feature in user_feature_list:\n",
        "    try:\n",
        "        target_indices.append(user_feature_map[feature])\n",
        "    except KeyError:\n",
        "        print(\"new user feature encountered '{}'\".format(feature))\n",
        "        pass\n",
        "\n",
        "  new_user_features = np.zeros(len(user_feature_map.keys()))\n",
        "  for i in target_indices:\n",
        "    new_user_features[i] = normalised_val\n",
        "  new_user_features = sparse.csr_matrix(new_user_features)\n",
        "  return(new_user_features)"
      ],
      "metadata": {
        "id": "vBPAS0iXaE2s"
      },
      "execution_count": null,
      "outputs": []
    },
    {
      "cell_type": "code",
      "source": [
        "new_user_features = format_newuser_input(user_feature_map, user_feature_list)\n",
        "new_user_features.todense()"
      ],
      "metadata": {
        "colab": {
          "base_uri": "https://localhost:8080/"
        },
        "id": "pHyZjNSPaQj-",
        "outputId": "ca005fee-d27e-4dd5-a15c-410ed414ea41"
      },
      "execution_count": null,
      "outputs": [
        {
          "output_type": "stream",
          "name": "stdout",
          "text": [
            "new user feature encountered 'playtime_forever:100'\n",
            "new user feature encountered 'playtime_at_review:100'\n"
          ]
        },
        {
          "output_type": "execute_result",
          "data": {
            "text/plain": [
              "matrix([[0., 0., 0., 0., 0., 0., 0., 0., 0., 0., 0., 0., 0., 0., 0., 0.,\n",
              "         0., 0., 0., 0., 0.]])"
            ]
          },
          "metadata": {},
          "execution_count": 74
        }
      ]
    },
    {
      "cell_type": "code",
      "source": [
        "model.predict(0, np.arange(n_items), user_features=new_user_features) # Here 0 means pick the first row of t"
      ],
      "metadata": {
        "colab": {
          "base_uri": "https://localhost:8080/"
        },
        "id": "WD-kcNifaYtI",
        "outputId": "b4cebaea-02fb-4f50-b142-bae11377dd70"
      },
      "execution_count": null,
      "outputs": [
        {
          "output_type": "execute_result",
          "data": {
            "text/plain": [
              "array([-0.41100636,  0.3518061 ,  0.04333792], dtype=float32)"
            ]
          },
          "metadata": {},
          "execution_count": 75
        }
      ]
    }
  ]
}